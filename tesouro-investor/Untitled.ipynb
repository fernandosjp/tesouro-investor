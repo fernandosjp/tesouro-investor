{
 "cells": [
  {
   "cell_type": "code",
   "execution_count": 1,
   "metadata": {
    "collapsed": true
   },
   "outputs": [],
   "source": [
    "#!/home/fernandosjp/anaconda/bin/python\n",
    "\n",
    "# Crawler\n",
    "import mechanize\n",
    "from BeautifulSoup import BeautifulSoup\n",
    "# Visualization\n",
    "from IPython.display import display, HTML\n",
    "# Data\n",
    "import pandas as pd\n",
    "import sqlite3\n",
    "# Emails\n",
    "from emailSender import *\n",
    "# Logging\n",
    "import logging\n",
    "#Others\n",
    "import datetime\n",
    "#Regexp \n",
    "import re "
   ]
  },
  {
   "cell_type": "code",
   "execution_count": 2,
   "metadata": {
    "collapsed": true
   },
   "outputs": [],
   "source": [
    "#Logging\n",
    "# create logger with 'alert tesouro'\n",
    "logger = logging.getLogger('alert_tesouro')\n",
    "logger.setLevel(logging.DEBUG)\n",
    "# create file handler which logs even debug messages\n",
    "fh = logging.FileHandler('alertInvest.log')\n",
    "fh.setLevel(logging.DEBUG)\n",
    "# create file handler which logs even debug messages\n",
    "eh = logging.FileHandler('alertInvestError.log')\n",
    "eh.setLevel(logging.ERROR)\n",
    "# create console handler with a higher log level\n",
    "ch = logging.StreamHandler()\n",
    "ch.setLevel(logging.INFO)\n",
    "# create formatter and add it to the handlers\n",
    "formatter = logging.Formatter('%(asctime)s - %(name)s - %(levelname)s - %(message)s')\n",
    "fh.setFormatter(formatter)\n",
    "ch.setFormatter(formatter)\n",
    "eh.setFormatter(formatter)\n",
    "# add the handlers to the logger\n",
    "logger.addHandler(fh)\n",
    "logger.addHandler(ch)\n",
    "logger.addHandler(eh)\n",
    "\n",
    "#Define Rules to \n",
    "alertRules = {\"NTNB Princ\":0.0735,\n",
    "\t\t\t \"LTN\":0.16}"
   ]
  },
  {
   "cell_type": "code",
   "execution_count": 3,
   "metadata": {
    "collapsed": true
   },
   "outputs": [],
   "source": [
    "def convertToInt(x):\n",
    "\t\"\"\"\n",
    "\tFunction to convert yield to integer\n",
    "\t\"\"\"\n",
    "\ttry:\n",
    "\t\tx=float(x)/10000\n",
    "\texcept Exception, e:\n",
    "\t\tx=0\n",
    "\treturn x"
   ]
  },
  {
   "cell_type": "code",
   "execution_count": 4,
   "metadata": {
    "collapsed": false
   },
   "outputs": [],
   "source": [
    "def extractBondName(x):\n",
    "    searchString = re.search(r\"\\(([^)]+)\\)\", str(x))\n",
    "    bondName=\"\"\n",
    "    try:\n",
    "        bondName = searchString.group(1)\n",
    "    except:\n",
    "        pass\n",
    "    print bondName\n",
    "    return bondName"
   ]
  },
  {
   "cell_type": "code",
   "execution_count": 5,
   "metadata": {
    "collapsed": true
   },
   "outputs": [],
   "source": [
    "def saveTask(emailSent):\n",
    "\t# Connecting to the database file\n",
    "\tsqlite_file = 'alertInvest.sqlite'  \n",
    "\tconn = sqlite3.connect(sqlite_file)\n",
    "\tc = conn.cursor()\n",
    "\n",
    "\tnow = datetime.datetime.now().strftime('%Y-%m-%d %H:%M:%S')\n",
    "\t\n",
    "\ttry:\n",
    "\t\tc.execute(\"INSERT INTO job_logs (date_task, emailSent) VALUES (?,?)\", (now,emailSent))\n",
    "\t\tlogger.info('Successfully inserted in database!')\n",
    "\texcept Exception, e:\n",
    "\t\tlogger.error('Not able to INSERT in database!')\n",
    "\n",
    "\tconn.commit()\n",
    "\tconn.close()\n",
    "\n",
    "\treturn None"
   ]
  },
  {
   "cell_type": "code",
   "execution_count": 49,
   "metadata": {
    "collapsed": false
   },
   "outputs": [
    {
     "name": "stderr",
     "output_type": "stream",
     "text": [
      "2015-12-20 13:38:18,265 - alert_tesouro - INFO - Opening browser\n",
      "INFO:alert_tesouro:Opening browser\n",
      "2015-12-20 13:38:18,298 - alert_tesouro - INFO - Opening url: http://www.tesouro.fazenda.gov.br/tesouro-direto-precos-e-taxas-dos-titulos\n",
      "INFO:alert_tesouro:Opening url: http://www.tesouro.fazenda.gov.br/tesouro-direto-precos-e-taxas-dos-titulos\n",
      "2015-12-20 13:38:18,615 - alert_tesouro - INFO - Reading url: http://www.tesouro.fazenda.gov.br/tesouro-direto-precos-e-taxas-dos-titulos\n",
      "INFO:alert_tesouro:Reading url: http://www.tesouro.fazenda.gov.br/tesouro-direto-precos-e-taxas-dos-titulos\n",
      "2015-12-20 13:38:18,807 - alert_tesouro - INFO - Getting tables from html\n",
      "INFO:alert_tesouro:Getting tables from html\n",
      "2015-12-20 13:38:18,809 - alert_tesouro - INFO - Importing html tables to Pandas\n",
      "INFO:alert_tesouro:Importing html tables to Pandas\n"
     ]
    }
   ],
   "source": [
    "#Open a browser\n",
    "logger.info('Opening browser')\n",
    "br = mechanize.Browser()\n",
    "br.addheaders = [('User-agent', 'Firefox')]\n",
    "br.set_handle_robots(False)\n",
    "\n",
    "#Open a url\n",
    "url='http://www.tesouro.fazenda.gov.br/tesouro-direto-precos-e-taxas-dos-titulos'\n",
    "logger.info('Opening url: {}'.format(url))\n",
    "page = br.open(url)\n",
    "\n",
    "logger.info('Reading url: {}'.format(url))\n",
    "html = page.read()\n",
    "soup = BeautifulSoup(html)\n",
    "\n",
    "logger.info('Getting tables from html')\n",
    "tables = soup.findAll(\"table\")\n",
    "\n",
    "logger.info('Importing html tables to Pandas')\n",
    "dfList = pd.read_html(str(tables[1]), header=False, skiprows=2)\n",
    "\n",
    "to = ['REMOVED',\n",
    "\t  #'REMOVED'\n",
    "]\n",
    "msgText = \"\"\n",
    "subject = \"[Tesouro Direto] Alerta COMPRA TUDO - LTN >= 16%\""
   ]
  },
  {
   "cell_type": "code",
   "execution_count": 42,
   "metadata": {
    "collapsed": false
   },
   "outputs": [
    {
     "data": {
      "text/plain": [
       "'<table width=\"100%\" cellspacing=\"0\" cellpadding=\"3\" border=\"0\"> <tbody><tr class=\"tabelaTitulo\"> <th align=\"center\"  class=\"tittuloTabelaTesouroDireto\"><center><b> T\\xc3\\xadtulo</b></center></th> <th align=\"center\"  class=\"tittuloTabelaTesouroDireto\"><center><b> Vencimento</b></center></th> <!-- TD class=\"tabelaTitulo\" rowspan=2 align=center&gt;&lt;b&gt;Indexador&lt;/b&gt;&lt;/TD --> <th  class=\"tittuloTabelaTesouroDireto\"> <center><b>Taxa % a.a.</b></center></th> <th  class=\"tittuloTabelaTesouroDireto\"> <center><b>Pre\\xc3\\xa7o Unit\\xc3\\xa1rio Dia</b></center></th> </tr> <tr class=\"tabelaTitulo1\"> <th class=\"tittuloTabelaTesouroDireto\"> <center><b>Compra</b></center></th> <th class=\"tittuloTabelaTesouroDireto\"> <center><b>Venda</b></center></th> <th class=\"tittuloTabelaTesouroDireto\"> <center><b>Compra</b></center></th> <th class=\"tittuloTabelaTesouroDireto\"> <center><b>Venda</b></center></th> </tr> <tr><td bgcolor=\"FFFF9C\" class=\"tittuloTabelaTesouroDireto prefixadoTesouroDireto\" align=\"center\" colspan=\"7\"><b>Indexados ao IPCA</b></td></tr> <tr class=\"camposTesouroDireto\"> <td align=\"center\" class=\"listing0\">Tesouro IPCA+ com Juros Semestrais 2017 (NTNB)</td> <td align=\"center\" class=\"listing\">15/05/2017</td> <td align=\"center\" class=\"listing taxaprecos\">-</td> <td align=\"center\" class=\"listing taxaprecos\">6,73</td> <td align=\"center\" class=\"listing taxaprecos\">R$0,00</td> <td align=\"center\" class=\"listing taxaprecos\">R$2.754,32</td> </tr> <tr class=\"camposTesouroDireto\"> <td align=\"center\" class=\"listing0\">Tesouro IPCA+ 2019 (NTNB Princ)</td> <td align=\"center\" class=\"listing\">15/05/2019</td> <td align=\"center\" class=\"listing taxaprecos\">7,36</td> <td align=\"center\" class=\"listing taxaprecos\">7,40</td> <td align=\"center\" class=\"listing taxaprecos\">R$2.173,75</td> <td align=\"center\" class=\"listing taxaprecos\">R$2.171,02</td> </tr> <tr class=\"camposTesouroDireto\"> <td align=\"center\" class=\"listing0\">Tesouro IPCA+ com Juros Semestrais 2020 (NTNB)</td> <td align=\"center\" class=\"listing\">15/08/2020</td> <td align=\"center\" class=\"listing taxaprecos\">7,32</td> <td align=\"center\" class=\"listing taxaprecos\">7,36</td> <td align=\"center\" class=\"listing taxaprecos\">R$2.683,94</td> <td align=\"center\" class=\"listing taxaprecos\">R$2.679,93</td> </tr> <tr class=\"camposTesouroDireto\"> <td align=\"center\" class=\"listing0\">Tesouro IPCA+ com Juros Semestrais 2024 (NTNB)</td> <td align=\"center\" class=\"listing\">15/08/2024</td> <td align=\"center\" class=\"listing taxaprecos\">-</td> <td align=\"center\" class=\"listing taxaprecos\">7,41</td> <td align=\"center\" class=\"listing taxaprecos\">R$0,00</td> <td align=\"center\" class=\"listing taxaprecos\">R$2.584,85</td> </tr> <tr class=\"camposTesouroDireto\"> <td align=\"center\" class=\"listing0\">Tesouro IPCA+ 2024 (NTNB Princ)</td> <td align=\"center\" class=\"listing\">15/08/2024</td> <td align=\"center\" class=\"listing taxaprecos\">7,36</td> <td align=\"center\" class=\"listing taxaprecos\">7,42</td> <td align=\"center\" class=\"listing taxaprecos\">R$1.498,06</td> <td align=\"center\" class=\"listing taxaprecos\">R$1.490,87</td> </tr> <tr class=\"camposTesouroDireto\"> <td align=\"center\" class=\"listing0\">Tesouro IPCA+ com Juros Semestrais 2035 (NTNB)</td> <td align=\"center\" class=\"listing\">15/05/2035</td> <td align=\"center\" class=\"listing taxaprecos\">7,43</td> <td align=\"center\" class=\"listing taxaprecos\">7,51</td> <td align=\"center\" class=\"listing taxaprecos\">R$2.392,02</td> <td align=\"center\" class=\"listing taxaprecos\">R$2.372,47</td> </tr> <tr class=\"camposTesouroDireto\"> <td align=\"center\" class=\"listing0\">Tesouro IPCA+ 2035 (NTNB Princ)</td> <td align=\"center\" class=\"listing\">15/05/2035</td> <td align=\"center\" class=\"listing taxaprecos\">7,49</td> <td align=\"center\" class=\"listing taxaprecos\">7,57</td> <td align=\"center\" class=\"listing taxaprecos\">R$683,97</td> <td align=\"center\" class=\"listing taxaprecos\">R$674,21</td> </tr> <tr class=\"camposTesouroDireto\"> <td align=\"center\" class=\"listing0\">Tesouro IPCA+ com Juros Semestrais 2045 (NTNB)</td> <td align=\"center\" class=\"listing\">15/05/2045</td> <td align=\"center\" class=\"listing taxaprecos\">-</td> <td align=\"center\" class=\"listing taxaprecos\">7,46</td> <td align=\"center\" class=\"listing taxaprecos\">R$0,00</td> <td align=\"center\" class=\"listing taxaprecos\">R$2.317,43</td> </tr> <tr class=\"camposTesouroDireto\"> <td align=\"center\" class=\"listing0\">Tesouro IPCA+ com Juros Semestrais 2050 (NTNB)</td> <td align=\"center\" class=\"listing\">15/08/2050</td> <td align=\"center\" class=\"listing taxaprecos\">7,26</td> <td align=\"center\" class=\"listing taxaprecos\">7,36</td> <td align=\"center\" class=\"listing taxaprecos\">R$2.395,54</td> <td align=\"center\" class=\"listing taxaprecos\">R$2.366,20</td> </tr> <tr><td class=\"tittuloTabelaTesouroDireto prefixadoTesouroDireto\" align=\"center\" colspan=\"7\"><b>Prefixados</b></td></tr> <tr class=\"camposTesouroDireto\"> <td align=\"center\" class=\"listing0\">Tesouro Prefixado 2016 (LTN)</td> <td align=\"center\" class=\"listing\">01/01/2016</td> <td align=\"center\" class=\"listing taxaprecos\">-</td> <td align=\"center\" class=\"listing taxaprecos\">14,25</td> <td align=\"center\" class=\"listing taxaprecos\">R$0,00</td> <td align=\"center\" class=\"listing taxaprecos\">R$995,77</td> </tr> <tr class=\"camposTesouroDireto\"> <td align=\"center\" class=\"listing0\">Tesouro Prefixado com Juros Semestrais 2017 (NTNF)</td> <td align=\"center\" class=\"listing\">01/01/2017</td> <td align=\"center\" class=\"listing taxaprecos\">-</td> <td align=\"center\" class=\"listing taxaprecos\">15,84</td> <td align=\"center\" class=\"listing taxaprecos\">R$0,00</td> <td align=\"center\" class=\"listing taxaprecos\">R$995,47</td> </tr> <tr class=\"camposTesouroDireto\"> <td align=\"center\" class=\"listing0\">Tesouro Prefixado 2017 (LTN)</td> <td align=\"center\" class=\"listing\">01/01/2017</td> <td align=\"center\" class=\"listing taxaprecos\">-</td> <td align=\"center\" class=\"listing taxaprecos\">15,84</td> <td align=\"center\" class=\"listing taxaprecos\">R$0,00</td> <td align=\"center\" class=\"listing taxaprecos\">R$859,74</td> </tr> <tr class=\"camposTesouroDireto\"> <td align=\"center\" class=\"listing0\">Tesouro Prefixado 2018 (LTN)</td> <td align=\"center\" class=\"listing\">01/01/2018</td> <td align=\"center\" class=\"listing taxaprecos\">16,49</td> <td align=\"center\" class=\"listing taxaprecos\">16,55</td> <td align=\"center\" class=\"listing taxaprecos\">R$735,14</td> <td align=\"center\" class=\"listing taxaprecos\">R$734,37</td> </tr> <tr class=\"camposTesouroDireto\"> <td align=\"center\" class=\"listing0\">Tesouro Prefixado 2021 (LTN)</td> <td align=\"center\" class=\"listing\">01/01/2021</td> <td align=\"center\" class=\"listing taxaprecos\">16,44</td> <td align=\"center\" class=\"listing taxaprecos\">16,50</td> <td align=\"center\" class=\"listing taxaprecos\">R$466,62</td> <td align=\"center\" class=\"listing taxaprecos\">R$465,41</td> </tr> <tr class=\"camposTesouroDireto\"> <td align=\"center\" class=\"listing0\">Tesouro Prefixado com Juros Semestrais 2021 (NTNF)</td> <td align=\"center\" class=\"listing\">01/01/2021</td> <td align=\"center\" class=\"listing taxaprecos\">-</td> <td align=\"center\" class=\"listing taxaprecos\">16,46</td> <td align=\"center\" class=\"listing taxaprecos\">R$0,00</td> <td align=\"center\" class=\"listing taxaprecos\">R$842,85</td> </tr> <tr class=\"camposTesouroDireto\"> <td align=\"center\" class=\"listing0\">Tesouro Prefixado com Juros Semestrais 2023 (NTNF)</td> <td align=\"center\" class=\"listing\">01/01/2023</td> <td align=\"center\" class=\"listing taxaprecos\">-</td> <td align=\"center\" class=\"listing taxaprecos\">16,40</td> <td align=\"center\" class=\"listing taxaprecos\">R$0,00</td> <td align=\"center\" class=\"listing taxaprecos\">R$798,31</td> </tr> <tr class=\"camposTesouroDireto\"> <td align=\"center\" class=\"listing0\">Tesouro Prefixado com Juros Semestrais 2025 (NTNF)</td> <td align=\"center\" class=\"listing\">01/01/2025</td> <td align=\"center\" class=\"listing taxaprecos\">16,27</td> <td align=\"center\" class=\"listing taxaprecos\">16,33</td> <td align=\"center\" class=\"listing taxaprecos\">R$768,58</td> <td align=\"center\" class=\"listing taxaprecos\">R$766,49</td> </tr> <tr><td class=\"prefixadoTesouroDireto\" prefixadotesourodireto=\"prefixadoTesouroDireto\"><b>Indexados \\xc3\\xa0 Taxa Selic</b></td></tr> <tr class=\"camposTesouroDireto\"> <td align=\"center\" class=\"listing0\">Tesouro Selic 2017 (LFT)</td> <td align=\"center\" class=\"listing\">07/03/2017</td> <td align=\"center\" class=\"listing taxaprecos\">-</td> <td align=\"center\" class=\"listing taxaprecos\">0,02</td> <td align=\"center\" class=\"listing taxaprecos\">R$0,00 </td> <td align=\"center\" class=\"listing taxaprecos\">R$7.375,10 </td> </tr> <tr class=\"camposTesouroDireto\"> <td align=\"center\" class=\"listing0\">Tesouro Selic 2021 (LFT)</td> <td align=\"center\" class=\"listing\">01/03/2021</td> <td align=\"center\" class=\"listing taxaprecos\">0,00</td> <td align=\"center\" class=\"listing taxaprecos\">0,04</td> <td align=\"center\" class=\"listing taxaprecos\">R$7.376,88 </td> <td align=\"center\" class=\"listing taxaprecos\">R$7.361,67 </td> </tr> </tbody></table>'"
      ]
     },
     "execution_count": 42,
     "metadata": {},
     "output_type": "execute_result"
    }
   ],
   "source": [
    "str(tables[1]).replace('rowspan=\"2\"','').replace('colspan=\"2\"','')"
   ]
  },
  {
   "cell_type": "code",
   "execution_count": 50,
   "metadata": {
    "collapsed": false
   },
   "outputs": [
    {
     "data": {
      "text/plain": [
       "[                                    Indexados ao IPCA Unnamed: 1 Unnamed: 2  \\\n",
       " 0      Tesouro IPCA+ com Juros Semestrais 2017 (NTNB) 2017-05-15 2015-12-20   \n",
       " 1                     Tesouro IPCA+ 2019 (NTNB Princ) 2019-05-15        NaT   \n",
       " 2      Tesouro IPCA+ com Juros Semestrais 2020 (NTNB) 2020-08-15        NaT   \n",
       " 3      Tesouro IPCA+ com Juros Semestrais 2024 (NTNB) 2024-08-15 2015-12-20   \n",
       " 4                     Tesouro IPCA+ 2024 (NTNB Princ) 2024-08-15        NaT   \n",
       " 5      Tesouro IPCA+ com Juros Semestrais 2035 (NTNB) 2035-05-15        NaT   \n",
       " 6                     Tesouro IPCA+ 2035 (NTNB Princ) 2035-05-15        NaT   \n",
       " 7      Tesouro IPCA+ com Juros Semestrais 2045 (NTNB) 2045-05-15 2015-12-20   \n",
       " 8      Tesouro IPCA+ com Juros Semestrais 2050 (NTNB) 2050-08-15        NaT   \n",
       " 9                                          Prefixados        NaT        NaT   \n",
       " 10                       Tesouro Prefixado 2016 (LTN) 2016-01-01 2015-12-20   \n",
       " 11  Tesouro Prefixado com Juros Semestrais 2017 (N... 2017-01-01 2015-12-20   \n",
       " 12                       Tesouro Prefixado 2017 (LTN) 2017-01-01 2015-12-20   \n",
       " 13                       Tesouro Prefixado 2018 (LTN) 2018-01-01        NaT   \n",
       " 14                       Tesouro Prefixado 2021 (LTN) 2021-01-01        NaT   \n",
       " 15  Tesouro Prefixado com Juros Semestrais 2021 (N... 2021-01-01 2015-12-20   \n",
       " 16  Tesouro Prefixado com Juros Semestrais 2023 (N... 2023-01-01 2015-12-20   \n",
       " 17  Tesouro Prefixado com Juros Semestrais 2025 (N... 2025-01-01        NaT   \n",
       " 18                            Indexados Ã  Taxa Selic        NaT        NaT   \n",
       " 19                           Tesouro Selic 2017 (LFT) 2017-07-03 2015-12-20   \n",
       " 20                           Tesouro Selic 2021 (LFT) 2021-01-03        NaT   \n",
       " \n",
       "     Unnamed: 3  Unnamed: 4  Unnamed: 5  \n",
       " 0          673      R$0,00  R$2.754,32  \n",
       " 1          740  R$2.173,75  R$2.171,02  \n",
       " 2          736  R$2.683,94  R$2.679,93  \n",
       " 3          741      R$0,00  R$2.584,85  \n",
       " 4          742  R$1.498,06  R$1.490,87  \n",
       " 5          751  R$2.392,02  R$2.372,47  \n",
       " 6          757    R$683,97    R$674,21  \n",
       " 7          746      R$0,00  R$2.317,43  \n",
       " 8          736  R$2.395,54  R$2.366,20  \n",
       " 9          NaN         NaN         NaN  \n",
       " 10        1425      R$0,00    R$995,77  \n",
       " 11        1584      R$0,00    R$995,47  \n",
       " 12        1584      R$0,00    R$859,74  \n",
       " 13        1655    R$735,14    R$734,37  \n",
       " 14        1650    R$466,62    R$465,41  \n",
       " 15        1646      R$0,00    R$842,85  \n",
       " 16        1640      R$0,00    R$798,31  \n",
       " 17        1633    R$768,58    R$766,49  \n",
       " 18         NaN         NaN         NaN  \n",
       " 19           2      R$0,00  R$7.375,10  \n",
       " 20           4  R$7.376,88  R$7.361,67  ]"
      ]
     },
     "execution_count": 50,
     "metadata": {},
     "output_type": "execute_result"
    }
   ],
   "source": [
    "dfList"
   ]
  },
  {
   "cell_type": "code",
   "execution_count": 51,
   "metadata": {
    "collapsed": false
   },
   "outputs": [],
   "source": [
    "df = dfList[0]\n",
    "df.dropna(inplace=True)"
   ]
  },
  {
   "cell_type": "code",
   "execution_count": 52,
   "metadata": {
    "collapsed": false
   },
   "outputs": [
    {
     "data": {
      "text/plain": [
       "Indexados ao IPCA            object\n",
       "Unnamed: 1           datetime64[ns]\n",
       "Unnamed: 2           datetime64[ns]\n",
       "Unnamed: 3                  float64\n",
       "Unnamed: 4                   object\n",
       "Unnamed: 5                   object\n",
       "dtype: object"
      ]
     },
     "execution_count": 52,
     "metadata": {},
     "output_type": "execute_result"
    }
   ],
   "source": [
    "df.dtypes"
   ]
  },
  {
   "cell_type": "code",
   "execution_count": 53,
   "metadata": {
    "collapsed": false
   },
   "outputs": [
    {
     "data": {
      "text/html": [
       "<div style=\"max-height:1000px;max-width:1500px;overflow:auto;\">\n",
       "<table border=\"1\" class=\"dataframe\">\n",
       "  <thead>\n",
       "    <tr style=\"text-align: right;\">\n",
       "      <th></th>\n",
       "      <th>Indexados ao IPCA</th>\n",
       "      <th>Unnamed: 1</th>\n",
       "      <th>Unnamed: 2</th>\n",
       "      <th>Unnamed: 3</th>\n",
       "      <th>Unnamed: 4</th>\n",
       "      <th>Unnamed: 5</th>\n",
       "    </tr>\n",
       "  </thead>\n",
       "  <tbody>\n",
       "    <tr>\n",
       "      <th>0 </th>\n",
       "      <td>    Tesouro IPCA+ com Juros Semestrais 2017 (NTNB)</td>\n",
       "      <td>2017-05-15</td>\n",
       "      <td>2015-12-20</td>\n",
       "      <td>  673</td>\n",
       "      <td> R$0,00</td>\n",
       "      <td> R$2.754,32</td>\n",
       "    </tr>\n",
       "    <tr>\n",
       "      <th>3 </th>\n",
       "      <td>    Tesouro IPCA+ com Juros Semestrais 2024 (NTNB)</td>\n",
       "      <td>2024-08-15</td>\n",
       "      <td>2015-12-20</td>\n",
       "      <td>  741</td>\n",
       "      <td> R$0,00</td>\n",
       "      <td> R$2.584,85</td>\n",
       "    </tr>\n",
       "    <tr>\n",
       "      <th>7 </th>\n",
       "      <td>    Tesouro IPCA+ com Juros Semestrais 2045 (NTNB)</td>\n",
       "      <td>2045-05-15</td>\n",
       "      <td>2015-12-20</td>\n",
       "      <td>  746</td>\n",
       "      <td> R$0,00</td>\n",
       "      <td> R$2.317,43</td>\n",
       "    </tr>\n",
       "    <tr>\n",
       "      <th>10</th>\n",
       "      <td>                      Tesouro Prefixado 2016 (LTN)</td>\n",
       "      <td>2016-01-01</td>\n",
       "      <td>2015-12-20</td>\n",
       "      <td> 1425</td>\n",
       "      <td> R$0,00</td>\n",
       "      <td>   R$995,77</td>\n",
       "    </tr>\n",
       "    <tr>\n",
       "      <th>11</th>\n",
       "      <td> Tesouro Prefixado com Juros Semestrais 2017 (N...</td>\n",
       "      <td>2017-01-01</td>\n",
       "      <td>2015-12-20</td>\n",
       "      <td> 1584</td>\n",
       "      <td> R$0,00</td>\n",
       "      <td>   R$995,47</td>\n",
       "    </tr>\n",
       "    <tr>\n",
       "      <th>12</th>\n",
       "      <td>                      Tesouro Prefixado 2017 (LTN)</td>\n",
       "      <td>2017-01-01</td>\n",
       "      <td>2015-12-20</td>\n",
       "      <td> 1584</td>\n",
       "      <td> R$0,00</td>\n",
       "      <td>   R$859,74</td>\n",
       "    </tr>\n",
       "    <tr>\n",
       "      <th>15</th>\n",
       "      <td> Tesouro Prefixado com Juros Semestrais 2021 (N...</td>\n",
       "      <td>2021-01-01</td>\n",
       "      <td>2015-12-20</td>\n",
       "      <td> 1646</td>\n",
       "      <td> R$0,00</td>\n",
       "      <td>   R$842,85</td>\n",
       "    </tr>\n",
       "    <tr>\n",
       "      <th>16</th>\n",
       "      <td> Tesouro Prefixado com Juros Semestrais 2023 (N...</td>\n",
       "      <td>2023-01-01</td>\n",
       "      <td>2015-12-20</td>\n",
       "      <td> 1640</td>\n",
       "      <td> R$0,00</td>\n",
       "      <td>   R$798,31</td>\n",
       "    </tr>\n",
       "    <tr>\n",
       "      <th>19</th>\n",
       "      <td>                          Tesouro Selic 2017 (LFT)</td>\n",
       "      <td>2017-07-03</td>\n",
       "      <td>2015-12-20</td>\n",
       "      <td>    2</td>\n",
       "      <td> R$0,00</td>\n",
       "      <td> R$7.375,10</td>\n",
       "    </tr>\n",
       "  </tbody>\n",
       "</table>\n",
       "</div>"
      ],
      "text/plain": [
       "                                    Indexados ao IPCA Unnamed: 1 Unnamed: 2  \\\n",
       "0      Tesouro IPCA+ com Juros Semestrais 2017 (NTNB) 2017-05-15 2015-12-20   \n",
       "3      Tesouro IPCA+ com Juros Semestrais 2024 (NTNB) 2024-08-15 2015-12-20   \n",
       "7      Tesouro IPCA+ com Juros Semestrais 2045 (NTNB) 2045-05-15 2015-12-20   \n",
       "10                       Tesouro Prefixado 2016 (LTN) 2016-01-01 2015-12-20   \n",
       "11  Tesouro Prefixado com Juros Semestrais 2017 (N... 2017-01-01 2015-12-20   \n",
       "12                       Tesouro Prefixado 2017 (LTN) 2017-01-01 2015-12-20   \n",
       "15  Tesouro Prefixado com Juros Semestrais 2021 (N... 2021-01-01 2015-12-20   \n",
       "16  Tesouro Prefixado com Juros Semestrais 2023 (N... 2023-01-01 2015-12-20   \n",
       "19                           Tesouro Selic 2017 (LFT) 2017-07-03 2015-12-20   \n",
       "\n",
       "    Unnamed: 3 Unnamed: 4  Unnamed: 5  \n",
       "0          673     R$0,00  R$2.754,32  \n",
       "3          741     R$0,00  R$2.584,85  \n",
       "7          746     R$0,00  R$2.317,43  \n",
       "10        1425     R$0,00    R$995,77  \n",
       "11        1584     R$0,00    R$995,47  \n",
       "12        1584     R$0,00    R$859,74  \n",
       "15        1646     R$0,00    R$842,85  \n",
       "16        1640     R$0,00    R$798,31  \n",
       "19           2     R$0,00  R$7.375,10  "
      ]
     },
     "execution_count": 53,
     "metadata": {},
     "output_type": "execute_result"
    }
   ],
   "source": [
    "df"
   ]
  },
  {
   "cell_type": "code",
   "execution_count": 8,
   "metadata": {
    "collapsed": false
   },
   "outputs": [
    {
     "name": "stderr",
     "output_type": "stream",
     "text": [
      "2015-12-20 02:17:44,260 - alert_tesouro - INFO - Correcting Bond Yields\n",
      "INFO:alert_tesouro:Correcting Bond Yields\n"
     ]
    },
    {
     "name": "stdout",
     "output_type": "stream",
     "text": [
      "NTNB\n",
      "NTNB\n",
      "NTNB\n",
      "LTN\n",
      "NTNF\n",
      "LTN\n",
      "NTNF\n",
      "NTNF\n",
      "LFT\n"
     ]
    }
   ],
   "source": [
    "logger.info('Correcting Bond Yields')\n",
    "df['taxa'] = df.apply(lambda row: convertToInt(row['Compra.1']), axis=1)\n",
    "df['titulo'] = df.apply(lambda row: extractBondName(row['Compra']), axis=1)"
   ]
  },
  {
   "cell_type": "code",
   "execution_count": 9,
   "metadata": {
    "collapsed": false
   },
   "outputs": [
    {
     "data": {
      "text/html": [
       "<div style=\"max-height:1000px;max-width:1500px;overflow:auto;\">\n",
       "<table border=\"1\" class=\"dataframe\">\n",
       "  <thead>\n",
       "    <tr style=\"text-align: right;\">\n",
       "      <th></th>\n",
       "      <th>Compra</th>\n",
       "      <th>Venda</th>\n",
       "      <th>Compra.1</th>\n",
       "      <th>Venda.1</th>\n",
       "      <th>Unnamed: 4</th>\n",
       "      <th>Unnamed: 5</th>\n",
       "      <th>taxa</th>\n",
       "      <th>titulo</th>\n",
       "    </tr>\n",
       "  </thead>\n",
       "  <tbody>\n",
       "    <tr>\n",
       "      <th>1 </th>\n",
       "      <td>    Tesouro IPCA+ com Juros Semestrais 2017 (NTNB)</td>\n",
       "      <td>2017-05-15</td>\n",
       "      <td>2015-12-20</td>\n",
       "      <td>  673</td>\n",
       "      <td> R$0,00</td>\n",
       "      <td> R$2.754,32</td>\n",
       "      <td> 0</td>\n",
       "      <td> NTNB</td>\n",
       "    </tr>\n",
       "    <tr>\n",
       "      <th>4 </th>\n",
       "      <td>    Tesouro IPCA+ com Juros Semestrais 2024 (NTNB)</td>\n",
       "      <td>2024-08-15</td>\n",
       "      <td>2015-12-20</td>\n",
       "      <td>  741</td>\n",
       "      <td> R$0,00</td>\n",
       "      <td> R$2.584,85</td>\n",
       "      <td> 0</td>\n",
       "      <td> NTNB</td>\n",
       "    </tr>\n",
       "    <tr>\n",
       "      <th>8 </th>\n",
       "      <td>    Tesouro IPCA+ com Juros Semestrais 2045 (NTNB)</td>\n",
       "      <td>2045-05-15</td>\n",
       "      <td>2015-12-20</td>\n",
       "      <td>  746</td>\n",
       "      <td> R$0,00</td>\n",
       "      <td> R$2.317,43</td>\n",
       "      <td> 0</td>\n",
       "      <td> NTNB</td>\n",
       "    </tr>\n",
       "    <tr>\n",
       "      <th>11</th>\n",
       "      <td>                      Tesouro Prefixado 2016 (LTN)</td>\n",
       "      <td>2016-01-01</td>\n",
       "      <td>2015-12-20</td>\n",
       "      <td> 1425</td>\n",
       "      <td> R$0,00</td>\n",
       "      <td>   R$995,77</td>\n",
       "      <td> 0</td>\n",
       "      <td>  LTN</td>\n",
       "    </tr>\n",
       "    <tr>\n",
       "      <th>12</th>\n",
       "      <td> Tesouro Prefixado com Juros Semestrais 2017 (N...</td>\n",
       "      <td>2017-01-01</td>\n",
       "      <td>2015-12-20</td>\n",
       "      <td> 1584</td>\n",
       "      <td> R$0,00</td>\n",
       "      <td>   R$995,47</td>\n",
       "      <td> 0</td>\n",
       "      <td> NTNF</td>\n",
       "    </tr>\n",
       "    <tr>\n",
       "      <th>13</th>\n",
       "      <td>                      Tesouro Prefixado 2017 (LTN)</td>\n",
       "      <td>2017-01-01</td>\n",
       "      <td>2015-12-20</td>\n",
       "      <td> 1584</td>\n",
       "      <td> R$0,00</td>\n",
       "      <td>   R$859,74</td>\n",
       "      <td> 0</td>\n",
       "      <td>  LTN</td>\n",
       "    </tr>\n",
       "    <tr>\n",
       "      <th>16</th>\n",
       "      <td> Tesouro Prefixado com Juros Semestrais 2021 (N...</td>\n",
       "      <td>2021-01-01</td>\n",
       "      <td>2015-12-20</td>\n",
       "      <td> 1646</td>\n",
       "      <td> R$0,00</td>\n",
       "      <td>   R$842,85</td>\n",
       "      <td> 0</td>\n",
       "      <td> NTNF</td>\n",
       "    </tr>\n",
       "    <tr>\n",
       "      <th>17</th>\n",
       "      <td> Tesouro Prefixado com Juros Semestrais 2023 (N...</td>\n",
       "      <td>2023-01-01</td>\n",
       "      <td>2015-12-20</td>\n",
       "      <td> 1640</td>\n",
       "      <td> R$0,00</td>\n",
       "      <td>   R$798,31</td>\n",
       "      <td> 0</td>\n",
       "      <td> NTNF</td>\n",
       "    </tr>\n",
       "    <tr>\n",
       "      <th>20</th>\n",
       "      <td>                          Tesouro Selic 2017 (LFT)</td>\n",
       "      <td>2017-07-03</td>\n",
       "      <td>2015-12-20</td>\n",
       "      <td>    2</td>\n",
       "      <td> R$0,00</td>\n",
       "      <td> R$7.375,10</td>\n",
       "      <td> 0</td>\n",
       "      <td>  LFT</td>\n",
       "    </tr>\n",
       "  </tbody>\n",
       "</table>\n",
       "</div>"
      ],
      "text/plain": [
       "                                               Compra      Venda   Compra.1  \\\n",
       "1      Tesouro IPCA+ com Juros Semestrais 2017 (NTNB) 2017-05-15 2015-12-20   \n",
       "4      Tesouro IPCA+ com Juros Semestrais 2024 (NTNB) 2024-08-15 2015-12-20   \n",
       "8      Tesouro IPCA+ com Juros Semestrais 2045 (NTNB) 2045-05-15 2015-12-20   \n",
       "11                       Tesouro Prefixado 2016 (LTN) 2016-01-01 2015-12-20   \n",
       "12  Tesouro Prefixado com Juros Semestrais 2017 (N... 2017-01-01 2015-12-20   \n",
       "13                       Tesouro Prefixado 2017 (LTN) 2017-01-01 2015-12-20   \n",
       "16  Tesouro Prefixado com Juros Semestrais 2021 (N... 2021-01-01 2015-12-20   \n",
       "17  Tesouro Prefixado com Juros Semestrais 2023 (N... 2023-01-01 2015-12-20   \n",
       "20                           Tesouro Selic 2017 (LFT) 2017-07-03 2015-12-20   \n",
       "\n",
       "    Venda.1 Unnamed: 4  Unnamed: 5  taxa titulo  \n",
       "1       673     R$0,00  R$2.754,32     0   NTNB  \n",
       "4       741     R$0,00  R$2.584,85     0   NTNB  \n",
       "8       746     R$0,00  R$2.317,43     0   NTNB  \n",
       "11     1425     R$0,00    R$995,77     0    LTN  \n",
       "12     1584     R$0,00    R$995,47     0   NTNF  \n",
       "13     1584     R$0,00    R$859,74     0    LTN  \n",
       "16     1646     R$0,00    R$842,85     0   NTNF  \n",
       "17     1640     R$0,00    R$798,31     0   NTNF  \n",
       "20        2     R$0,00  R$7.375,10     0    LFT  "
      ]
     },
     "execution_count": 9,
     "metadata": {},
     "output_type": "execute_result"
    }
   ],
   "source": [
    "df"
   ]
  },
  {
   "cell_type": "code",
   "execution_count": 10,
   "metadata": {
    "collapsed": false
   },
   "outputs": [],
   "source": [
    "rename = {'Venda':'vencimento'}\n",
    "df.rename(columns=rename, inplace=True)"
   ]
  },
  {
   "cell_type": "code",
   "execution_count": 11,
   "metadata": {
    "collapsed": false
   },
   "outputs": [
    {
     "name": "stderr",
     "output_type": "stream",
     "text": [
      "2015-12-20 02:17:53,513 - alert_tesouro - INFO -    titulo vencimento  taxa\n",
      "1    NTNB 2017-05-15     0\n",
      "4    NTNB 2024-08-15     0\n",
      "8    NTNB 2045-05-15     0\n",
      "11    LTN 2016-01-01     0\n",
      "12   NTNF 2017-01-01     0\n",
      "13    LTN 2017-01-01     0\n",
      "16   NTNF 2021-01-01     0\n",
      "17   NTNF 2023-01-01     0\n",
      "20    LFT 2017-07-03     0\n",
      "INFO:alert_tesouro:   titulo vencimento  taxa\n",
      "1    NTNB 2017-05-15     0\n",
      "4    NTNB 2024-08-15     0\n",
      "8    NTNB 2045-05-15     0\n",
      "11    LTN 2016-01-01     0\n",
      "12   NTNF 2017-01-01     0\n",
      "13    LTN 2017-01-01     0\n",
      "16   NTNF 2021-01-01     0\n",
      "17   NTNF 2023-01-01     0\n",
      "20    LFT 2017-07-03     0\n",
      "2015-12-20 02:17:53,559 - alert_tesouro - INFO - Check condition\n",
      "INFO:alert_tesouro:Check condition\n"
     ]
    }
   ],
   "source": [
    "columns = ['titulo','vencimento','taxa']\n",
    "\n",
    "logger.info(df[columns])\n",
    "\n",
    "msgText=df[columns].to_html()\n",
    "\n",
    "logger.info('Check condition')\n",
    "emailSent = False"
   ]
  },
  {
   "cell_type": "code",
   "execution_count": null,
   "metadata": {
    "collapsed": true
   },
   "outputs": [],
   "source": []
  }
 ],
 "metadata": {
  "kernelspec": {
   "display_name": "Python 2",
   "language": "python",
   "name": "python2"
  },
  "language_info": {
   "codemirror_mode": {
    "name": "ipython",
    "version": 2
   },
   "file_extension": ".py",
   "mimetype": "text/x-python",
   "name": "python",
   "nbconvert_exporter": "python",
   "pygments_lexer": "ipython2",
   "version": "2.7.9"
  }
 },
 "nbformat": 4,
 "nbformat_minor": 0
}
